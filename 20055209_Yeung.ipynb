{
 "cells": [
  {
   "cell_type": "code",
   "execution_count": 1,
   "metadata": {},
   "outputs": [],
   "source": [
    "import os\n",
    "import wandb\n",
    "import numpy as np\n",
    "import SimpleITK as sitk\n",
    "import torch\n",
    "import torch.nn.functional as F\n",
    "import matplotlib.pyplot as plt\n",
    "from matplotlib.image import imread\n",
    "from sklearn.decomposition import PCA\n",
    "from torch import nn\n",
    "from torch.utils.data import TensorDataset, DataLoader\n",
    "from torchmetrics.classification import MultilabelAccuracy"
   ]
  },
  {
   "cell_type": "code",
   "execution_count": 2,
   "metadata": {},
   "outputs": [],
   "source": [
    "# Question 1: load data\n",
    "data_folder = \"d:/Chris/CISC881/A4/assignment4_data\"\n",
    "desi_rbl_data = np.load(os.path.join(data_folder, \"2017 09 29 DESI 08 RBL R.npz\"))\n",
    "desi_rml_data = np.load(os.path.join(data_folder, \"2017 10 03 DESI 04 RML L.npz\"))\n",
    "desi_ra_data = np.load(os.path.join(data_folder, \"2017 10 05 DESI 02 RA R.npz\"))\n",
    "\n",
    "desi_rbl_image = desi_rbl_data[\"peaks\"]\n",
    "desi_rml_image = desi_rml_data[\"peaks\"]\n",
    "desi_ra_image = desi_ra_data[\"peaks\"]\n",
    "\n",
    "desi_rbl_x, desi_rbl_y = desi_rbl_data[\"dim_x\"], desi_rbl_data[\"dim_y\"]\n",
    "desi_rml_x, desi_rml_y = desi_rml_data[\"dim_x\"], desi_rml_data[\"dim_y\"]\n",
    "desi_ra_x, desi_ra_y = desi_ra_data[\"dim_x\"], desi_ra_data[\"dim_y\"]"
   ]
  },
  {
   "cell_type": "code",
   "execution_count": 3,
   "metadata": {},
   "outputs": [],
   "source": [
    "def tic_normalization(desi_image):\n",
    "    tic = np.sum(desi_image, axis=-1, keepdims=True)\n",
    "    normalized_image = desi_image / tic\n",
    "    return normalized_image"
   ]
  },
  {
   "cell_type": "code",
   "execution_count": 4,
   "metadata": {},
   "outputs": [],
   "source": [
    "# Question 2: TIC normalization\n",
    "normalized_rbl_image = tic_normalization(desi_rbl_image)\n",
    "normalized_rml_image = tic_normalization(desi_rml_image)\n",
    "normalized_ra_image = tic_normalization(desi_ra_image)"
   ]
  },
  {
   "cell_type": "code",
   "execution_count": 5,
   "metadata": {},
   "outputs": [],
   "source": [
    "def apply_pca(desi_image):\n",
    "    pca = PCA(n_components=3)\n",
    "    transformed_image = pca.fit_transform(desi_image)\n",
    "    return transformed_image"
   ]
  },
  {
   "cell_type": "code",
   "execution_count": 6,
   "metadata": {},
   "outputs": [],
   "source": [
    "# Question 3: visualize data\n",
    "# PCA to reduce dimensions to (N_allpixels, 3)\n",
    "rbl_pca = apply_pca(normalized_rbl_image)\n",
    "rml_pca = apply_pca(normalized_rml_image)\n",
    "ra_pca = apply_pca(normalized_ra_image)"
   ]
  },
  {
   "cell_type": "code",
   "execution_count": 7,
   "metadata": {},
   "outputs": [],
   "source": [
    "# Reshape to RGB (dim_x, dim_y, 3)\n",
    "rbl_spatial = rbl_pca.reshape((desi_rbl_y, desi_rbl_x, -1))\n",
    "rml_spatial = rml_pca.reshape((desi_rml_y, desi_rml_x, -1))\n",
    "ra_spatial = ra_pca.reshape((desi_ra_y, desi_ra_x, -1))"
   ]
  },
  {
   "cell_type": "code",
   "execution_count": 8,
   "metadata": {},
   "outputs": [],
   "source": [
    "def scale_image_by_channel(desi_image):\n",
    "    data_min = np.min(desi_image, axis=(0, 1), keepdims=True)\n",
    "    data_max = np.max(desi_image, axis=(0, 1), keepdims=True)\n",
    "    scaled_image = (desi_image - data_min) / (data_max - data_min)\n",
    "    return scaled_image"
   ]
  },
  {
   "cell_type": "code",
   "execution_count": 9,
   "metadata": {},
   "outputs": [],
   "source": [
    "# Scale each channel to [0,1]\n",
    "rbl_spatial = scale_image_by_channel(rbl_spatial)\n",
    "rml_spatial = scale_image_by_channel(rml_spatial)\n",
    "ra_spatial = scale_image_by_channel(ra_spatial)"
   ]
  },
  {
   "cell_type": "code",
   "execution_count": 10,
   "metadata": {},
   "outputs": [],
   "source": [
    "# Save images\n",
    "# plt.imsave(os.path.join(data_folder, \"rbl_spatial.jpeg\"), rbl_spatial)\n",
    "# plt.imsave(os.path.join(data_folder, \"rml_spatial.jpeg\"), rml_spatial)\n",
    "# plt.imsave(os.path.join(data_folder, \"ra_spatial.jpeg\"), ra_spatial)"
   ]
  },
  {
   "cell_type": "code",
   "execution_count": 11,
   "metadata": {},
   "outputs": [],
   "source": [
    "# Question 6: dataset generation\n",
    "# Load roi images\n",
    "rbl_roi = sitk.ReadImage(os.path.join(data_folder, \"rbl_roi.nrrd\"))\n",
    "rml_roi = sitk.ReadImage(os.path.join(data_folder, \"rml_roi.nrrd\"))\n",
    "ra_roi = sitk.ReadImage(os.path.join(data_folder, \"ra_roi.nrrd\"))\n",
    "rbl_roi_arr = sitk.GetArrayFromImage(rbl_roi)[0]  # take first channel because mask is 2D\n",
    "rml_roi_arr = sitk.GetArrayFromImage(rml_roi)[0]\n",
    "ra_roi_arr = sitk.GetArrayFromImage(ra_roi)[0]"
   ]
  },
  {
   "cell_type": "code",
   "execution_count": 12,
   "metadata": {},
   "outputs": [],
   "source": [
    "def get_class_pixel_coordinates(roi_image, label):\n",
    "    i, j = np.where(roi_image == label)\n",
    "    return list(zip(i, j))  # convert list of x and y coordinates to list of (x, y) tuples"
   ]
  },
  {
   "cell_type": "code",
   "execution_count": 13,
   "metadata": {},
   "outputs": [],
   "source": [
    "# Get pixels from DESI image for each class in ROI (1 = cancer, 2 = normal, 3 = background)\n",
    "rbl_cancer_pixels = get_class_pixel_coordinates(rbl_roi_arr, 1)\n",
    "rbl_normal_pixels = get_class_pixel_coordinates(rbl_roi_arr, 2)\n",
    "rbl_background_pixels = get_class_pixel_coordinates(rbl_roi_arr, 3)\n",
    "\n",
    "rml_cancer_pixels = get_class_pixel_coordinates(rml_roi_arr, 1)\n",
    "rml_normal_pixels = get_class_pixel_coordinates(rml_roi_arr, 2)\n",
    "rml_background_pixels = get_class_pixel_coordinates(rml_roi_arr, 3)\n",
    "\n",
    "ra_cancer_pixels = get_class_pixel_coordinates(ra_roi_arr, 1)\n",
    "ra_normal_pixels = get_class_pixel_coordinates(ra_roi_arr, 2)\n",
    "ra_background_pixels = get_class_pixel_coordinates(ra_roi_arr, 3)"
   ]
  },
  {
   "cell_type": "code",
   "execution_count": 14,
   "metadata": {},
   "outputs": [],
   "source": [
    "def get_class_spectra_and_labels(desi_image, desi_x, desi_y, pixel_coordinates, label):\n",
    "    # First reshape image to (dimy, dimx, -1)\n",
    "    desi_image_reshaped = desi_image.reshape((desi_y, desi_x, -1))\n",
    "\n",
    "    # Get spectra and labels for each pixel\n",
    "    spectra = []\n",
    "    labels = []\n",
    "    for i, j in pixel_coordinates:\n",
    "        spectra.append(desi_image_reshaped[i, j, :])\n",
    "        labels.append(label)\n",
    "\n",
    "    return spectra, labels"
   ]
  },
  {
   "cell_type": "code",
   "execution_count": 15,
   "metadata": {},
   "outputs": [],
   "source": [
    "# Generate spectrum and label datasets\n",
    "cancer_label = np.array([0, 0, 1])\n",
    "normal_label = np.array([0, 1, 0])\n",
    "background_label = np.array([1, 0, 0])\n",
    "\n",
    "# Training\n",
    "rbl_cancer_spectra, rbl_cancer_labels = get_class_spectra_and_labels(normalized_rbl_image, desi_rbl_x, desi_rbl_y, rbl_cancer_pixels, cancer_label)\n",
    "rbl_normal_spectra, rbl_normal_labels = get_class_spectra_and_labels(normalized_rbl_image, desi_rbl_x, desi_rbl_y, rbl_normal_pixels, normal_label)\n",
    "rbl_background_spectra, rbl_background_labels = get_class_spectra_and_labels(normalized_rbl_image, desi_rbl_x, desi_rbl_y, rbl_background_pixels, background_label)\n",
    "\n",
    "# Validation\n",
    "rml_cancer_spectra, rml_cancer_labels = get_class_spectra_and_labels(normalized_rml_image, desi_rml_x, desi_rml_y, rml_cancer_pixels, cancer_label)\n",
    "rml_normal_spectra, rml_normal_labels = get_class_spectra_and_labels(normalized_rml_image, desi_rml_x, desi_rml_y, rml_normal_pixels, normal_label)\n",
    "rml_background_spectra, rml_background_labels = get_class_spectra_and_labels(normalized_rml_image, desi_rml_x, desi_rml_y, rml_background_pixels, background_label)\n",
    "\n",
    "# Test\n",
    "ra_cancer_spectra, ra_cancer_labels = get_class_spectra_and_labels(normalized_ra_image, desi_ra_x, desi_ra_y, ra_cancer_pixels, cancer_label)\n",
    "ra_normal_spectra, ra_normal_labels = get_class_spectra_and_labels(normalized_ra_image, desi_ra_x, desi_ra_y, ra_normal_pixels, normal_label)\n",
    "ra_background_spectra, ra_background_labels = get_class_spectra_and_labels(normalized_ra_image, desi_ra_x, desi_ra_y, ra_background_pixels, background_label)\n",
    "\n",
    "X_train = np.array(rbl_cancer_spectra + rbl_normal_spectra + rbl_background_spectra)\n",
    "X_val = np.array(rml_cancer_spectra + rml_normal_spectra + rml_background_spectra)\n",
    "X_test = np.array(ra_cancer_spectra + ra_normal_spectra + ra_background_spectra)\n",
    "\n",
    "y_train = np.array(rbl_cancer_labels + rbl_normal_labels + rbl_background_labels)\n",
    "y_val = np.array(rml_cancer_labels + rml_normal_labels + rml_background_labels)\n",
    "y_test = np.array(ra_cancer_labels + ra_normal_labels + ra_background_labels)"
   ]
  },
  {
   "cell_type": "code",
   "execution_count": 16,
   "metadata": {},
   "outputs": [],
   "source": [
    "# Generate PyTorch datasets and dataloaders\n",
    "X_train_tensor = torch.Tensor(X_train)\n",
    "X_val_tensor = torch.Tensor(X_val)\n",
    "X_test_tensor = torch.Tensor(X_test)\n",
    "\n",
    "y_train_tensor = torch.Tensor(y_train)\n",
    "y_val_tensor = torch.Tensor(y_val)\n",
    "y_test_tensor = torch.Tensor(y_test)\n",
    "\n",
    "train_dataset = TensorDataset(X_train_tensor, y_train_tensor)\n",
    "val_dataset = TensorDataset(X_val_tensor, y_val_tensor)\n",
    "test_dataset = TensorDataset(X_test_tensor, y_test_tensor)\n",
    "\n",
    "train_dataloader = DataLoader(train_dataset, shuffle=True)\n",
    "val_dataloader = DataLoader(val_dataset, batch_size=32)\n",
    "test_dataloader = DataLoader(test_dataset)"
   ]
  },
  {
   "cell_type": "code",
   "execution_count": 17,
   "metadata": {},
   "outputs": [],
   "source": [
    "# Generate a CNN\n",
    "class CNN(nn.Module):\n",
    "    def __init__(self):\n",
    "        super().__init__()\n",
    "\n",
    "        self.conv1 = nn.Conv1d(1, 32, 3)\n",
    "        self.pool = nn.MaxPool1d(2)\n",
    "        self.conv2 = nn.Conv1d(32, 64, 3)\n",
    "\n",
    "        self.fc1 = nn.Linear(64 * 199, 120)\n",
    "        self.fc2 = nn.Linear(120, 84)\n",
    "        self.fc3 = nn.Linear(84, 3)\n",
    "    \n",
    "    def forward(self, x):\n",
    "        x = self.pool(F.relu(self.conv1(x)))\n",
    "        x = self.pool(F.relu(self.conv2(x)))\n",
    "\n",
    "        x = x.view(x.size(0), -1)\n",
    "        x = F.relu(self.fc1(x))\n",
    "        x = F.relu(self.fc2(x))\n",
    "        x = F.softmax(self.fc3(x), dim=1)\n",
    "        return x\n"
   ]
  },
  {
   "cell_type": "code",
   "execution_count": 18,
   "metadata": {},
   "outputs": [],
   "source": [
    "# Training settings\n",
    "device = torch.device(\"cuda:0\" if torch.cuda.is_available() else \"cpu\")\n",
    "model = CNN().to(device)\n",
    "criterion = nn.CrossEntropyLoss().cuda()\n",
    "metric = MultilabelAccuracy(num_labels=3).to(device)\n",
    "optimizer = torch.optim.Adam(model.parameters(), lr=0.001)"
   ]
  },
  {
   "cell_type": "code",
   "execution_count": 19,
   "metadata": {},
   "outputs": [
    {
     "name": "stderr",
     "output_type": "stream",
     "text": [
      "Failed to detect the name of this notebook, you can set it manually with the WANDB_NOTEBOOK_NAME environment variable to enable code saving.\n",
      "\u001b[34m\u001b[1mwandb\u001b[0m: Currently logged in as: \u001b[33mchriscyyeung\u001b[0m. Use \u001b[1m`wandb login --relogin`\u001b[0m to force relogin\n"
     ]
    },
    {
     "data": {
      "text/html": [
       "Tracking run with wandb version 0.14.0"
      ],
      "text/plain": [
       "<IPython.core.display.HTML object>"
      ]
     },
     "metadata": {},
     "output_type": "display_data"
    },
    {
     "data": {
      "text/html": [
       "Run data is saved locally in <code>c:\\Users\\Chris\\Documents\\CISC881\\desi-pathology-segmentation\\wandb\\run-20230404_173038-cdr93t6n</code>"
      ],
      "text/plain": [
       "<IPython.core.display.HTML object>"
      ]
     },
     "metadata": {},
     "output_type": "display_data"
    },
    {
     "data": {
      "text/html": [
       "Syncing run <strong><a href='https://wandb.ai/chriscyyeung/cisc881-desi-classification/runs/cdr93t6n' target=\"_blank\">happy-brook-7</a></strong> to <a href='https://wandb.ai/chriscyyeung/cisc881-desi-classification' target=\"_blank\">Weights & Biases</a> (<a href='https://wandb.me/run' target=\"_blank\">docs</a>)<br/>"
      ],
      "text/plain": [
       "<IPython.core.display.HTML object>"
      ]
     },
     "metadata": {},
     "output_type": "display_data"
    },
    {
     "data": {
      "text/html": [
       " View project at <a href='https://wandb.ai/chriscyyeung/cisc881-desi-classification' target=\"_blank\">https://wandb.ai/chriscyyeung/cisc881-desi-classification</a>"
      ],
      "text/plain": [
       "<IPython.core.display.HTML object>"
      ]
     },
     "metadata": {},
     "output_type": "display_data"
    },
    {
     "data": {
      "text/html": [
       " View run at <a href='https://wandb.ai/chriscyyeung/cisc881-desi-classification/runs/cdr93t6n' target=\"_blank\">https://wandb.ai/chriscyyeung/cisc881-desi-classification/runs/cdr93t6n</a>"
      ],
      "text/plain": [
       "<IPython.core.display.HTML object>"
      ]
     },
     "metadata": {},
     "output_type": "display_data"
    }
   ],
   "source": [
    "# Log experiments\n",
    "experiment = wandb.init(\n",
    "    project=\"cisc881-desi-classification\",\n",
    "    config={\"epochs\": 25, \"batch_size\": 1, \"learning_rate\": 0.001}\n",
    ")"
   ]
  },
  {
   "cell_type": "code",
   "execution_count": 20,
   "metadata": {},
   "outputs": [
    {
     "name": "stdout",
     "output_type": "stream",
     "text": [
      "Saved model\n",
      "Epoch 1 - Training loss: 0.991659420613872 - Validation loss: 0.8204411875967886 - Training accuracy: 0.7061752676963806 - Validation accuracy: 0.8206698894500732\n",
      "Saved model\n",
      "Epoch 2 - Training loss: 0.9897703404057622 - Validation loss: 0.8204398669448554 - Training accuracy: 0.7079163789749146 - Validation accuracy: 0.8206698894500732\n",
      "Saved model\n",
      "Epoch 3 - Training loss: 0.9895773186934294 - Validation loss: 0.8204398669448554 - Training accuracy: 0.707916259765625 - Validation accuracy: 0.8206698894500732\n",
      "Saved model\n",
      "Epoch 4 - Training loss: 0.9895773186934294 - Validation loss: 0.8204398669448554 - Training accuracy: 0.7079166173934937 - Validation accuracy: 0.8206698894500732\n",
      "Saved model\n",
      "Epoch 5 - Training loss: 0.9895773186934294 - Validation loss: 0.8204398669448554 - Training accuracy: 0.7079165577888489 - Validation accuracy: 0.8206698894500732\n",
      "Saved model\n",
      "Epoch 6 - Training loss: 0.9895773186934294 - Validation loss: 0.8204398669448554 - Training accuracy: 0.707916259765625 - Validation accuracy: 0.8206698894500732\n",
      "Saved model\n",
      "Epoch 7 - Training loss: 0.9895773186934294 - Validation loss: 0.8204398669448554 - Training accuracy: 0.7079163789749146 - Validation accuracy: 0.8206698894500732\n",
      "Saved model\n",
      "Epoch 8 - Training loss: 0.9895773186934294 - Validation loss: 0.8204398669448554 - Training accuracy: 0.7079160213470459 - Validation accuracy: 0.8206698894500732\n",
      "Saved model\n",
      "Epoch 9 - Training loss: 0.9895773186934294 - Validation loss: 0.8204398669448554 - Training accuracy: 0.707916796207428 - Validation accuracy: 0.8206698894500732\n",
      "Saved model\n",
      "Epoch 10 - Training loss: 0.9895773186934294 - Validation loss: 0.8204398669448554 - Training accuracy: 0.7079163789749146 - Validation accuracy: 0.8206698894500732\n",
      "Saved model\n",
      "Epoch 11 - Training loss: 0.9895773186934294 - Validation loss: 0.8204398669448554 - Training accuracy: 0.707916796207428 - Validation accuracy: 0.8206698894500732\n",
      "Saved model\n",
      "Epoch 12 - Training loss: 0.9895773186934294 - Validation loss: 0.8204398669448554 - Training accuracy: 0.7079155445098877 - Validation accuracy: 0.8206698894500732\n",
      "Saved model\n",
      "Epoch 13 - Training loss: 0.9895773186934294 - Validation loss: 0.8204398669448554 - Training accuracy: 0.7079157829284668 - Validation accuracy: 0.8206698894500732\n",
      "Saved model\n",
      "Epoch 14 - Training loss: 0.9895773186934294 - Validation loss: 0.8204398669448554 - Training accuracy: 0.7079164981842041 - Validation accuracy: 0.8206698894500732\n",
      "Saved model\n",
      "Epoch 15 - Training loss: 0.9895773186934294 - Validation loss: 0.8204398669448554 - Training accuracy: 0.7079165577888489 - Validation accuracy: 0.8206698894500732\n",
      "Saved model\n",
      "Epoch 16 - Training loss: 0.9895773186934294 - Validation loss: 0.8204398669448554 - Training accuracy: 0.7079164981842041 - Validation accuracy: 0.8206698894500732\n",
      "Saved model\n",
      "Epoch 17 - Training loss: 0.9895773186934294 - Validation loss: 0.8204398669448554 - Training accuracy: 0.7079161405563354 - Validation accuracy: 0.8206698894500732\n",
      "Saved model\n",
      "Epoch 18 - Training loss: 0.9895773186934294 - Validation loss: 0.8204398669448554 - Training accuracy: 0.7079156637191772 - Validation accuracy: 0.8206698894500732\n",
      "Saved model\n",
      "Epoch 19 - Training loss: 0.9895773186934294 - Validation loss: 0.8204398669448554 - Training accuracy: 0.7079166173934937 - Validation accuracy: 0.8206698894500732\n",
      "Saved model\n",
      "Epoch 20 - Training loss: 0.9895773186934294 - Validation loss: 0.8204398669448554 - Training accuracy: 0.7079168558120728 - Validation accuracy: 0.8206698894500732\n",
      "Saved model\n",
      "Epoch 21 - Training loss: 0.9895773186934294 - Validation loss: 0.8204398669448554 - Training accuracy: 0.7079170346260071 - Validation accuracy: 0.8206698894500732\n",
      "Saved model\n",
      "Epoch 22 - Training loss: 0.9895773186934294 - Validation loss: 0.8204398669448554 - Training accuracy: 0.7079161405563354 - Validation accuracy: 0.8206698894500732\n",
      "Saved model\n",
      "Epoch 23 - Training loss: 0.9895773186934294 - Validation loss: 0.8204398669448554 - Training accuracy: 0.7079168558120728 - Validation accuracy: 0.8206698894500732\n",
      "Saved model\n",
      "Epoch 24 - Training loss: 0.9895773186934294 - Validation loss: 0.8204398669448554 - Training accuracy: 0.7079160809516907 - Validation accuracy: 0.8206698894500732\n",
      "Saved model\n",
      "Epoch 25 - Training loss: 0.9895773186934294 - Validation loss: 0.8204398669448554 - Training accuracy: 0.7079164981842041 - Validation accuracy: 0.8206698894500732\n"
     ]
    }
   ],
   "source": [
    "# Training loop\n",
    "for epoch in range(25):\n",
    "    model.train()\n",
    "    running_loss = 0.0\n",
    "    running_acc = 0.0\n",
    "    best_val_loss = np.inf\n",
    "    for i, data in enumerate(train_dataloader, 0):\n",
    "        inputs, labels = data[0].to(device), data[1].to(device)\n",
    "        inputs = inputs.unsqueeze(1)\n",
    "\n",
    "        optimizer.zero_grad()\n",
    "\n",
    "        outputs = model(inputs)\n",
    "        loss = criterion(outputs, labels)\n",
    "        loss.backward()\n",
    "        optimizer.step()\n",
    "\n",
    "        running_loss += loss.item()\n",
    "        running_acc += metric(outputs, labels)\n",
    "\n",
    "    # Validation step\n",
    "    model.eval()\n",
    "    with torch.no_grad():\n",
    "        val_running_loss = 0.0\n",
    "        val_running_acc = 0.0\n",
    "        for i, data in enumerate(val_dataloader, 0):\n",
    "            inputs, labels = data[0].to(device), data[1].to(device)\n",
    "            inputs = inputs.unsqueeze(1)\n",
    "\n",
    "            outputs = model(inputs)\n",
    "            loss = criterion(outputs, labels)\n",
    "\n",
    "            val_running_loss += loss.item()\n",
    "            val_running_acc += metric(outputs, labels)\n",
    "\n",
    "    if val_running_loss < best_val_loss:\n",
    "        best_val_loss = val_running_loss\n",
    "        torch.save(model.state_dict(), \"best_model.pt\")\n",
    "        print(\"Saved model\")\n",
    "    \n",
    "    experiment.log({\n",
    "        \"epoch\": epoch,\n",
    "        \"train_loss\": running_loss / len(train_dataloader),\n",
    "        \"val_loss\": val_running_loss / len(val_dataloader),\n",
    "        \"train_acc\": running_acc / len(train_dataloader),\n",
    "        \"val_acc\": val_running_acc / len(val_dataloader)\n",
    "    })\n",
    "\n",
    "    print(f\"Epoch {epoch + 1} - Training loss: {running_loss / len(train_dataloader)} \"\n",
    "                            f\"- Validation loss: {val_running_loss / len(val_dataloader)} \"\n",
    "                            f\"- Training accuracy: {running_acc / len(train_dataloader)} \"\n",
    "                            f\"- Validation accuracy: {val_running_acc / len(val_dataloader)}\")"
   ]
  },
  {
   "cell_type": "code",
   "execution_count": 24,
   "metadata": {},
   "outputs": [],
   "source": [
    "# Question 8: prospective deployment\n",
    "# Load model\n",
    "best_model = CNN()\n",
    "best_model.load_state_dict(torch.load(\"best_model.pt\"))\n",
    "best_model.to(device)\n",
    "best_model.eval()\n",
    "\n",
    "prediction = np.zeros((desi_ra_y, desi_ra_x, 3))\n",
    "ra_image_2d = np.reshape(normalized_ra_image, (desi_ra_y, desi_ra_x, -1))\n",
    "# Make prediction on each pixel\n",
    "for y in range(desi_ra_y):\n",
    "    for x in range(desi_ra_x):\n",
    "        spectrum = ra_image_2d[y, x, :]\n",
    "        spectrum_tensor = torch.Tensor(spectrum)\n",
    "        spectrum_tensor = spectrum_tensor.unsqueeze(0)\n",
    "        spectrum_tensor = spectrum_tensor.unsqueeze(1)\n",
    "        spectrum_tensor = spectrum_tensor.to(device)\n",
    "        output = model(spectrum_tensor).cpu().detach().numpy()[0]\n",
    "        prediction[y, x] = np.argmax(output)"
   ]
  },
  {
   "cell_type": "code",
   "execution_count": 27,
   "metadata": {},
   "outputs": [
    {
     "data": {
      "image/png": "[encoded data removed]",
      "text/plain": [
       "<Figure size 640x480 with 1 Axes>"
      ]
     },
     "metadata": {},
     "output_type": "display_data"
    }
   ],
   "source": [
    "# Plot image\n",
    "plt.imshow(prediction)\n",
    "plt.show()"
   ]
  }
 ],
 "metadata": {
  "kernelspec": {
   "display_name": "torch-gpu",
   "language": "python",
   "name": "python3"
  },
  "language_info": {
   "codemirror_mode": {
    "name": "ipython",
    "version": 3
   },
   "file_extension": ".py",
   "mimetype": "text/x-python",
   "name": "python",
   "nbconvert_exporter": "python",
   "pygments_lexer": "ipython3",
   "version": "3.9.16"
  },
  "orig_nbformat": 4
 },
 "nbformat": 4,
 "nbformat_minor": 2
}
